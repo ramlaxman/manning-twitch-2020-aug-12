{
 "cells": [
  {
   "cell_type": "code",
   "execution_count": 1,
   "metadata": {},
   "outputs": [
    {
     "data": {
      "text/plain": [
       "4"
      ]
     },
     "execution_count": 1,
     "metadata": {},
     "output_type": "execute_result"
    }
   ],
   "source": [
    "s = 'abcd'\n",
    "len(s)"
   ]
  },
  {
   "cell_type": "code",
   "execution_count": 2,
   "metadata": {},
   "outputs": [
    {
     "data": {
      "text/plain": [
       "int"
      ]
     },
     "execution_count": 2,
     "metadata": {},
     "output_type": "execute_result"
    }
   ],
   "source": [
    "x = len(s)\n",
    "type(x)"
   ]
  },
  {
   "cell_type": "code",
   "execution_count": 3,
   "metadata": {},
   "outputs": [
    {
     "data": {
      "text/plain": [
       "4"
      ]
     },
     "execution_count": 3,
     "metadata": {},
     "output_type": "execute_result"
    }
   ],
   "source": [
    "x"
   ]
  },
  {
   "cell_type": "code",
   "execution_count": 4,
   "metadata": {},
   "outputs": [],
   "source": [
    "x = s.upper()"
   ]
  },
  {
   "cell_type": "code",
   "execution_count": 5,
   "metadata": {},
   "outputs": [
    {
     "data": {
      "text/plain": [
       "'ABCD'"
      ]
     },
     "execution_count": 5,
     "metadata": {},
     "output_type": "execute_result"
    }
   ],
   "source": [
    "x"
   ]
  },
  {
   "cell_type": "code",
   "execution_count": 6,
   "metadata": {},
   "outputs": [
    {
     "data": {
      "text/plain": [
       "str"
      ]
     },
     "execution_count": 6,
     "metadata": {},
     "output_type": "execute_result"
    }
   ],
   "source": [
    "type(x)"
   ]
  },
  {
   "cell_type": "code",
   "execution_count": 7,
   "metadata": {},
   "outputs": [],
   "source": [
    "x = s.upper"
   ]
  },
  {
   "cell_type": "code",
   "execution_count": 8,
   "metadata": {},
   "outputs": [
    {
     "data": {
      "text/plain": [
       "<function str.upper()>"
      ]
     },
     "execution_count": 8,
     "metadata": {},
     "output_type": "execute_result"
    }
   ],
   "source": [
    "x"
   ]
  },
  {
   "cell_type": "code",
   "execution_count": 9,
   "metadata": {},
   "outputs": [
    {
     "data": {
      "text/plain": [
       "False"
      ]
     },
     "execution_count": 9,
     "metadata": {},
     "output_type": "execute_result"
    }
   ],
   "source": [
    "x is s.upper"
   ]
  },
  {
   "cell_type": "code",
   "execution_count": 10,
   "metadata": {},
   "outputs": [
    {
     "data": {
      "text/plain": [
       "'ABCD'"
      ]
     },
     "execution_count": 10,
     "metadata": {},
     "output_type": "execute_result"
    }
   ],
   "source": [
    "s.upper()"
   ]
  },
  {
   "cell_type": "code",
   "execution_count": 11,
   "metadata": {},
   "outputs": [
    {
     "data": {
      "text/plain": [
       "'ABCD'"
      ]
     },
     "execution_count": 11,
     "metadata": {},
     "output_type": "execute_result"
    }
   ],
   "source": [
    "x()"
   ]
  },
  {
   "cell_type": "code",
   "execution_count": 12,
   "metadata": {},
   "outputs": [
    {
     "name": "stdout",
     "output_type": "stream",
     "text": [
      "a: 1\n",
      "b: 2\n",
      "c: 3\n"
     ]
    }
   ],
   "source": [
    "d = {'a':1, 'b':2, 'c':3}\n",
    "\n",
    "for key, value in d.items():\n",
    "    print(f'{key}: {value}')"
   ]
  },
  {
   "cell_type": "code",
   "execution_count": 13,
   "metadata": {},
   "outputs": [
    {
     "ename": "TypeError",
     "evalue": "'builtin_function_or_method' object is not iterable",
     "output_type": "error",
     "traceback": [
      "\u001b[0;31m---------------------------------------------------------------------------\u001b[0m",
      "\u001b[0;31mTypeError\u001b[0m                                 Traceback (most recent call last)",
      "\u001b[0;32m<ipython-input-13-f556797c3125>\u001b[0m in \u001b[0;36m<module>\u001b[0;34m\u001b[0m\n\u001b[1;32m      1\u001b[0m \u001b[0md\u001b[0m \u001b[0;34m=\u001b[0m \u001b[0;34m{\u001b[0m\u001b[0;34m'a'\u001b[0m\u001b[0;34m:\u001b[0m\u001b[0;36m1\u001b[0m\u001b[0;34m,\u001b[0m \u001b[0;34m'b'\u001b[0m\u001b[0;34m:\u001b[0m\u001b[0;36m2\u001b[0m\u001b[0;34m,\u001b[0m \u001b[0;34m'c'\u001b[0m\u001b[0;34m:\u001b[0m\u001b[0;36m3\u001b[0m\u001b[0;34m}\u001b[0m\u001b[0;34m\u001b[0m\u001b[0;34m\u001b[0m\u001b[0m\n\u001b[1;32m      2\u001b[0m \u001b[0;34m\u001b[0m\u001b[0m\n\u001b[0;32m----> 3\u001b[0;31m \u001b[0;32mfor\u001b[0m \u001b[0mkey\u001b[0m\u001b[0;34m,\u001b[0m \u001b[0mvalue\u001b[0m \u001b[0;32min\u001b[0m \u001b[0md\u001b[0m\u001b[0;34m.\u001b[0m\u001b[0mitems\u001b[0m\u001b[0;34m:\u001b[0m\u001b[0;34m\u001b[0m\u001b[0;34m\u001b[0m\u001b[0m\n\u001b[0m\u001b[1;32m      4\u001b[0m     \u001b[0mprint\u001b[0m\u001b[0;34m(\u001b[0m\u001b[0;34mf'{key}: {value}'\u001b[0m\u001b[0;34m)\u001b[0m\u001b[0;34m\u001b[0m\u001b[0;34m\u001b[0m\u001b[0m\n",
      "\u001b[0;31mTypeError\u001b[0m: 'builtin_function_or_method' object is not iterable"
     ]
    }
   ],
   "source": [
    "d = {'a':1, 'b':2, 'c':3}\n",
    "\n",
    "for key, value in d.items:\n",
    "    print(f'{key}: {value}')"
   ]
  },
  {
   "cell_type": "code",
   "execution_count": 14,
   "metadata": {},
   "outputs": [],
   "source": [
    "def hello():\n",
    "    return 'Hello!'"
   ]
  },
  {
   "cell_type": "code",
   "execution_count": 15,
   "metadata": {},
   "outputs": [
    {
     "data": {
      "text/plain": [
       "function"
      ]
     },
     "execution_count": 15,
     "metadata": {},
     "output_type": "execute_result"
    }
   ],
   "source": [
    "type(hello)"
   ]
  },
  {
   "cell_type": "code",
   "execution_count": 16,
   "metadata": {},
   "outputs": [
    {
     "data": {
      "text/plain": [
       "str"
      ]
     },
     "execution_count": 16,
     "metadata": {},
     "output_type": "execute_result"
    }
   ],
   "source": [
    "type(hello())"
   ]
  },
  {
   "cell_type": "code",
   "execution_count": 17,
   "metadata": {},
   "outputs": [],
   "source": [
    "import dis"
   ]
  },
  {
   "cell_type": "code",
   "execution_count": 18,
   "metadata": {},
   "outputs": [
    {
     "name": "stdout",
     "output_type": "stream",
     "text": [
      "  2           0 LOAD_CONST               1 ('Hello!')\n",
      "              2 RETURN_VALUE\n"
     ]
    }
   ],
   "source": [
    "dis.dis(hello)"
   ]
  },
  {
   "cell_type": "code",
   "execution_count": 19,
   "metadata": {},
   "outputs": [
    {
     "data": {
      "text/plain": [
       "<code object hello at 0x10a9ae920, file \"<ipython-input-14-51d8671ba7ac>\", line 1>"
      ]
     },
     "execution_count": 19,
     "metadata": {},
     "output_type": "execute_result"
    }
   ],
   "source": [
    "hello.__code__"
   ]
  },
  {
   "cell_type": "code",
   "execution_count": 20,
   "metadata": {},
   "outputs": [
    {
     "data": {
      "text/plain": [
       "['__class__',\n",
       " '__delattr__',\n",
       " '__dir__',\n",
       " '__doc__',\n",
       " '__eq__',\n",
       " '__format__',\n",
       " '__ge__',\n",
       " '__getattribute__',\n",
       " '__gt__',\n",
       " '__hash__',\n",
       " '__init__',\n",
       " '__init_subclass__',\n",
       " '__le__',\n",
       " '__lt__',\n",
       " '__ne__',\n",
       " '__new__',\n",
       " '__reduce__',\n",
       " '__reduce_ex__',\n",
       " '__repr__',\n",
       " '__setattr__',\n",
       " '__sizeof__',\n",
       " '__str__',\n",
       " '__subclasshook__',\n",
       " 'co_argcount',\n",
       " 'co_cellvars',\n",
       " 'co_code',\n",
       " 'co_consts',\n",
       " 'co_filename',\n",
       " 'co_firstlineno',\n",
       " 'co_flags',\n",
       " 'co_freevars',\n",
       " 'co_kwonlyargcount',\n",
       " 'co_lnotab',\n",
       " 'co_name',\n",
       " 'co_names',\n",
       " 'co_nlocals',\n",
       " 'co_posonlyargcount',\n",
       " 'co_stacksize',\n",
       " 'co_varnames',\n",
       " 'replace']"
      ]
     },
     "execution_count": 20,
     "metadata": {},
     "output_type": "execute_result"
    }
   ],
   "source": [
    "dir(hello.__code__)"
   ]
  },
  {
   "cell_type": "code",
   "execution_count": 21,
   "metadata": {},
   "outputs": [
    {
     "data": {
      "text/plain": [
       "b'd\\x01S\\x00'"
      ]
     },
     "execution_count": 21,
     "metadata": {},
     "output_type": "execute_result"
    }
   ],
   "source": [
    "hello.__code__.co_code"
   ]
  },
  {
   "cell_type": "code",
   "execution_count": 23,
   "metadata": {},
   "outputs": [
    {
     "data": {
      "text/plain": [
       "(None, 'Hello!')"
      ]
     },
     "execution_count": 23,
     "metadata": {},
     "output_type": "execute_result"
    }
   ],
   "source": [
    "hello.__code__.co_consts"
   ]
  },
  {
   "cell_type": "code",
   "execution_count": 24,
   "metadata": {},
   "outputs": [
    {
     "name": "stdout",
     "output_type": "stream",
     "text": [
      "  2           0 LOAD_CONST               1 ('Hello!')\n",
      "              2 RETURN_VALUE\n"
     ]
    }
   ],
   "source": [
    "dis.dis(hello)"
   ]
  },
  {
   "cell_type": "code",
   "execution_count": 27,
   "metadata": {},
   "outputs": [],
   "source": [
    "def add_nums():\n",
    "    x = 2\n",
    "    y = 3\n",
    "    z = 4\n",
    "    return x + y + z"
   ]
  },
  {
   "cell_type": "code",
   "execution_count": 28,
   "metadata": {},
   "outputs": [
    {
     "name": "stdout",
     "output_type": "stream",
     "text": [
      "  2           0 LOAD_CONST               1 (2)\n",
      "              2 STORE_FAST               0 (x)\n",
      "\n",
      "  3           4 LOAD_CONST               2 (3)\n",
      "              6 STORE_FAST               1 (y)\n",
      "\n",
      "  4           8 LOAD_CONST               3 (4)\n",
      "             10 STORE_FAST               2 (z)\n",
      "\n",
      "  5          12 LOAD_FAST                0 (x)\n",
      "             14 LOAD_FAST                1 (y)\n",
      "             16 BINARY_ADD\n",
      "             18 LOAD_FAST                2 (z)\n",
      "             20 BINARY_ADD\n",
      "             22 RETURN_VALUE\n"
     ]
    }
   ],
   "source": [
    "dis.dis(add_nums)"
   ]
  },
  {
   "cell_type": "code",
   "execution_count": 29,
   "metadata": {},
   "outputs": [
    {
     "data": {
      "text/plain": [
       "(None, 2, 3, 4)"
      ]
     },
     "execution_count": 29,
     "metadata": {},
     "output_type": "execute_result"
    }
   ],
   "source": [
    "add_nums.__code__.co_consts"
   ]
  },
  {
   "cell_type": "code",
   "execution_count": 30,
   "metadata": {},
   "outputs": [],
   "source": [
    "def hello():\n",
    "    return 'Hello!'"
   ]
  },
  {
   "cell_type": "code",
   "execution_count": 31,
   "metadata": {},
   "outputs": [],
   "source": [
    "def goodbye():\n",
    "    return 'Goodbye!'"
   ]
  },
  {
   "cell_type": "code",
   "execution_count": 33,
   "metadata": {},
   "outputs": [],
   "source": [
    "goodbye.__code__ = hello.__code__   # function brain transplant!"
   ]
  },
  {
   "cell_type": "code",
   "execution_count": 34,
   "metadata": {},
   "outputs": [
    {
     "data": {
      "text/plain": [
       "'Hello!'"
      ]
     },
     "execution_count": 34,
     "metadata": {},
     "output_type": "execute_result"
    }
   ],
   "source": [
    "hello()"
   ]
  },
  {
   "cell_type": "code",
   "execution_count": 35,
   "metadata": {},
   "outputs": [
    {
     "data": {
      "text/plain": [
       "'Hello!'"
      ]
     },
     "execution_count": 35,
     "metadata": {},
     "output_type": "execute_result"
    }
   ],
   "source": [
    "goodbye()"
   ]
  },
  {
   "cell_type": "code",
   "execution_count": 36,
   "metadata": {},
   "outputs": [
    {
     "ename": "TypeError",
     "evalue": "hello() takes 0 positional arguments but 1 was given",
     "output_type": "error",
     "traceback": [
      "\u001b[0;31m---------------------------------------------------------------------------\u001b[0m",
      "\u001b[0;31mTypeError\u001b[0m                                 Traceback (most recent call last)",
      "\u001b[0;32m<ipython-input-36-f1883085bb90>\u001b[0m in \u001b[0;36m<module>\u001b[0;34m\u001b[0m\n\u001b[0;32m----> 1\u001b[0;31m \u001b[0mhello\u001b[0m\u001b[0;34m(\u001b[0m\u001b[0;34m'world'\u001b[0m\u001b[0;34m)\u001b[0m\u001b[0;34m\u001b[0m\u001b[0;34m\u001b[0m\u001b[0m\n\u001b[0m",
      "\u001b[0;31mTypeError\u001b[0m: hello() takes 0 positional arguments but 1 was given"
     ]
    }
   ],
   "source": [
    "hello('world')"
   ]
  },
  {
   "cell_type": "code",
   "execution_count": 37,
   "metadata": {},
   "outputs": [],
   "source": [
    "# 2 types of arguments in Python:\n",
    "# - positional arguments (assigned to parameters via their position)\n",
    "# - keyword arguments (assigned to parameters via their names / keywords)\n",
    "\n",
    "def add(x, y):\n",
    "    return x + y"
   ]
  },
  {
   "cell_type": "code",
   "execution_count": 38,
   "metadata": {},
   "outputs": [
    {
     "data": {
      "text/plain": [
       "15"
      ]
     },
     "execution_count": 38,
     "metadata": {},
     "output_type": "execute_result"
    }
   ],
   "source": [
    "add(10, 5) # both of these are positional arguments"
   ]
  },
  {
   "cell_type": "code",
   "execution_count": 39,
   "metadata": {},
   "outputs": [
    {
     "data": {
      "text/plain": [
       "15"
      ]
     },
     "execution_count": 39,
     "metadata": {},
     "output_type": "execute_result"
    }
   ],
   "source": [
    "add(x=10, y=5)  # both of these are keyword arguments"
   ]
  },
  {
   "cell_type": "code",
   "execution_count": 40,
   "metadata": {},
   "outputs": [
    {
     "data": {
      "text/plain": [
       "15"
      ]
     },
     "execution_count": 40,
     "metadata": {},
     "output_type": "execute_result"
    }
   ],
   "source": [
    "add(y=5, x=10)"
   ]
  },
  {
   "cell_type": "code",
   "execution_count": 41,
   "metadata": {},
   "outputs": [
    {
     "data": {
      "text/plain": [
       "0"
      ]
     },
     "execution_count": 41,
     "metadata": {},
     "output_type": "execute_result"
    }
   ],
   "source": [
    "hello.__code__.co_argcount"
   ]
  },
  {
   "cell_type": "code",
   "execution_count": 42,
   "metadata": {},
   "outputs": [],
   "source": [
    "def hello(name):\n",
    "    return f'Hello, {name}!'"
   ]
  },
  {
   "cell_type": "code",
   "execution_count": 43,
   "metadata": {},
   "outputs": [
    {
     "data": {
      "text/plain": [
       "'Hello, world!'"
      ]
     },
     "execution_count": 43,
     "metadata": {},
     "output_type": "execute_result"
    }
   ],
   "source": [
    "hello('world')"
   ]
  },
  {
   "cell_type": "code",
   "execution_count": 44,
   "metadata": {},
   "outputs": [
    {
     "data": {
      "text/plain": [
       "1"
      ]
     },
     "execution_count": 44,
     "metadata": {},
     "output_type": "execute_result"
    }
   ],
   "source": [
    "hello.__code__.co_argcount"
   ]
  },
  {
   "cell_type": "code",
   "execution_count": 45,
   "metadata": {},
   "outputs": [
    {
     "ename": "TypeError",
     "evalue": "hello() missing 1 required positional argument: 'name'",
     "output_type": "error",
     "traceback": [
      "\u001b[0;31m---------------------------------------------------------------------------\u001b[0m",
      "\u001b[0;31mTypeError\u001b[0m                                 Traceback (most recent call last)",
      "\u001b[0;32m<ipython-input-45-a75d7781aaeb>\u001b[0m in \u001b[0;36m<module>\u001b[0;34m\u001b[0m\n\u001b[0;32m----> 1\u001b[0;31m \u001b[0mhello\u001b[0m\u001b[0;34m(\u001b[0m\u001b[0;34m)\u001b[0m\u001b[0;34m\u001b[0m\u001b[0;34m\u001b[0m\u001b[0m\n\u001b[0m",
      "\u001b[0;31mTypeError\u001b[0m: hello() missing 1 required positional argument: 'name'"
     ]
    }
   ],
   "source": [
    "hello()"
   ]
  },
  {
   "cell_type": "code",
   "execution_count": 46,
   "metadata": {},
   "outputs": [
    {
     "data": {
      "text/plain": [
       "('name',)"
      ]
     },
     "execution_count": 46,
     "metadata": {},
     "output_type": "execute_result"
    }
   ],
   "source": [
    "hello.__code__.co_varnames   # tuple of strings with the function's local variables"
   ]
  },
  {
   "cell_type": "code",
   "execution_count": 47,
   "metadata": {},
   "outputs": [],
   "source": [
    "def hello(name):\n",
    "    x = 1\n",
    "    y = 2\n",
    "    return f'Hello, {name}!'"
   ]
  },
  {
   "cell_type": "code",
   "execution_count": 48,
   "metadata": {},
   "outputs": [
    {
     "data": {
      "text/plain": [
       "('name', 'x', 'y')"
      ]
     },
     "execution_count": 48,
     "metadata": {},
     "output_type": "execute_result"
    }
   ],
   "source": [
    "hello.__code__.co_varnames"
   ]
  },
  {
   "cell_type": "code",
   "execution_count": 49,
   "metadata": {},
   "outputs": [
    {
     "data": {
      "text/plain": [
       "1"
      ]
     },
     "execution_count": 49,
     "metadata": {},
     "output_type": "execute_result"
    }
   ],
   "source": [
    "hello.__code__.co_argcount"
   ]
  },
  {
   "cell_type": "code",
   "execution_count": 50,
   "metadata": {},
   "outputs": [],
   "source": [
    "def add(x, y=10):\n",
    "    return x + y"
   ]
  },
  {
   "cell_type": "code",
   "execution_count": 51,
   "metadata": {},
   "outputs": [
    {
     "data": {
      "text/plain": [
       "11"
      ]
     },
     "execution_count": 51,
     "metadata": {},
     "output_type": "execute_result"
    }
   ],
   "source": [
    "add(5, 6)"
   ]
  },
  {
   "cell_type": "code",
   "execution_count": 52,
   "metadata": {},
   "outputs": [
    {
     "data": {
      "text/plain": [
       "2"
      ]
     },
     "execution_count": 52,
     "metadata": {},
     "output_type": "execute_result"
    }
   ],
   "source": [
    "add.__code__.co_argcount"
   ]
  },
  {
   "cell_type": "code",
   "execution_count": 53,
   "metadata": {},
   "outputs": [
    {
     "data": {
      "text/plain": [
       "15"
      ]
     },
     "execution_count": 53,
     "metadata": {},
     "output_type": "execute_result"
    }
   ],
   "source": [
    "add(5)"
   ]
  },
  {
   "cell_type": "code",
   "execution_count": 54,
   "metadata": {},
   "outputs": [
    {
     "data": {
      "text/plain": [
       "(10,)"
      ]
     },
     "execution_count": 54,
     "metadata": {},
     "output_type": "execute_result"
    }
   ],
   "source": [
    "add.__defaults__"
   ]
  },
  {
   "cell_type": "code",
   "execution_count": 55,
   "metadata": {},
   "outputs": [],
   "source": [
    "def myfunc(a,b,c,d=10,e=20,f=30):\n",
    "    return 'Hello'"
   ]
  },
  {
   "cell_type": "code",
   "execution_count": 56,
   "metadata": {},
   "outputs": [
    {
     "data": {
      "text/plain": [
       "6"
      ]
     },
     "execution_count": 56,
     "metadata": {},
     "output_type": "execute_result"
    }
   ],
   "source": [
    "myfunc.__code__.co_argcount"
   ]
  },
  {
   "cell_type": "code",
   "execution_count": 57,
   "metadata": {},
   "outputs": [
    {
     "data": {
      "text/plain": [
       "'Hello'"
      ]
     },
     "execution_count": 57,
     "metadata": {},
     "output_type": "execute_result"
    }
   ],
   "source": [
    "myfunc(2,4,6)"
   ]
  },
  {
   "cell_type": "code",
   "execution_count": 58,
   "metadata": {},
   "outputs": [
    {
     "data": {
      "text/plain": [
       "(10, 20, 30)"
      ]
     },
     "execution_count": 58,
     "metadata": {},
     "output_type": "execute_result"
    }
   ],
   "source": [
    "myfunc.__defaults__"
   ]
  },
  {
   "cell_type": "code",
   "execution_count": 59,
   "metadata": {},
   "outputs": [
    {
     "data": {
      "text/plain": [
       "'Hello'"
      ]
     },
     "execution_count": 59,
     "metadata": {},
     "output_type": "execute_result"
    }
   ],
   "source": [
    "myfunc(2,4,6,8)"
   ]
  },
  {
   "cell_type": "code",
   "execution_count": 60,
   "metadata": {},
   "outputs": [
    {
     "data": {
      "text/plain": [
       "10"
      ]
     },
     "execution_count": 60,
     "metadata": {},
     "output_type": "execute_result"
    }
   ],
   "source": [
    "# oh, so it passes arguments by value, right?\n",
    "\n",
    "def myfunc(y):\n",
    "    y = 20   # this assigns the local variable y to 20; doesn't affect x at all!\n",
    "    \n",
    "x = 10\n",
    "\n",
    "myfunc(x)\n",
    "x"
   ]
  },
  {
   "cell_type": "code",
   "execution_count": 62,
   "metadata": {},
   "outputs": [
    {
     "data": {
      "text/plain": [
       "[10, 20, 30, 1]"
      ]
     },
     "execution_count": 62,
     "metadata": {},
     "output_type": "execute_result"
    }
   ],
   "source": [
    "# not exactly...\n",
    "\n",
    "def myfunc(y):\n",
    "    y.append(1)  # we affect the list -- x and y both refer to it\n",
    "    \n",
    "x = [10, 20, 30]\n",
    "myfunc(x)\n",
    "\n",
    "x"
   ]
  },
  {
   "cell_type": "code",
   "execution_count": 63,
   "metadata": {},
   "outputs": [
    {
     "data": {
      "text/plain": [
       "[10, 20, 30, 1]"
      ]
     },
     "execution_count": 63,
     "metadata": {},
     "output_type": "execute_result"
    }
   ],
   "source": [
    "def add_one(a_list):\n",
    "    a_list.append(1)\n",
    "    return a_list\n",
    "\n",
    "x = [10, 20, 30]\n",
    "add_one(x)\n",
    "\n",
    "x"
   ]
  },
  {
   "cell_type": "code",
   "execution_count": 64,
   "metadata": {},
   "outputs": [
    {
     "data": {
      "text/plain": [
       "[10, 20, 30, 1, 1]"
      ]
     },
     "execution_count": 64,
     "metadata": {},
     "output_type": "execute_result"
    }
   ],
   "source": [
    "add_one(x)\n",
    "x"
   ]
  },
  {
   "cell_type": "code",
   "execution_count": 65,
   "metadata": {},
   "outputs": [
    {
     "data": {
      "text/plain": [
       "[1]"
      ]
     },
     "execution_count": 65,
     "metadata": {},
     "output_type": "execute_result"
    }
   ],
   "source": [
    "def add_one(a_list=[]):   # default of an empty list\n",
    "    a_list.append(1)\n",
    "    return a_list\n",
    "\n",
    "add_one()"
   ]
  },
  {
   "cell_type": "code",
   "execution_count": 66,
   "metadata": {},
   "outputs": [
    {
     "data": {
      "text/plain": [
       "[1, 1]"
      ]
     },
     "execution_count": 66,
     "metadata": {},
     "output_type": "execute_result"
    }
   ],
   "source": [
    "add_one()"
   ]
  },
  {
   "cell_type": "code",
   "execution_count": 67,
   "metadata": {},
   "outputs": [
    {
     "data": {
      "text/plain": [
       "[1, 1, 1]"
      ]
     },
     "execution_count": 67,
     "metadata": {},
     "output_type": "execute_result"
    }
   ],
   "source": [
    "add_one()"
   ]
  },
  {
   "cell_type": "code",
   "execution_count": 68,
   "metadata": {},
   "outputs": [],
   "source": [
    "def add_one(a_list=[]):   # default of an empty list\n",
    "    a_list.append(1)\n",
    "    return a_list\n",
    "\n"
   ]
  },
  {
   "cell_type": "code",
   "execution_count": 69,
   "metadata": {},
   "outputs": [
    {
     "data": {
      "text/plain": [
       "([],)"
      ]
     },
     "execution_count": 69,
     "metadata": {},
     "output_type": "execute_result"
    }
   ],
   "source": [
    "add_one.__defaults__"
   ]
  },
  {
   "cell_type": "code",
   "execution_count": 70,
   "metadata": {},
   "outputs": [
    {
     "data": {
      "text/plain": [
       "[1]"
      ]
     },
     "execution_count": 70,
     "metadata": {},
     "output_type": "execute_result"
    }
   ],
   "source": [
    "add_one()"
   ]
  },
  {
   "cell_type": "code",
   "execution_count": 71,
   "metadata": {},
   "outputs": [
    {
     "data": {
      "text/plain": [
       "([1],)"
      ]
     },
     "execution_count": 71,
     "metadata": {},
     "output_type": "execute_result"
    }
   ],
   "source": [
    "add_one.__defaults__"
   ]
  },
  {
   "cell_type": "markdown",
   "metadata": {},
   "source": [
    "# Never use mutable defaults!"
   ]
  },
  {
   "cell_type": "code",
   "execution_count": 72,
   "metadata": {},
   "outputs": [
    {
     "name": "stdout",
     "output_type": "stream",
     "text": [
      "x = 100\n"
     ]
    }
   ],
   "source": [
    "x = 100\n",
    "\n",
    "print(f'x = {x}')"
   ]
  },
  {
   "cell_type": "markdown",
   "metadata": {},
   "source": [
    "## Where does Python look for variables?\n",
    "\n",
    "- Local (start here if we're inside of a function body, and continue until you find it)\n",
    "- Enclosing\n",
    "\n",
    "- Global (start here if we're not in a function body, and continue until you find it)\n",
    "- Builtins"
   ]
  },
  {
   "cell_type": "code",
   "execution_count": 73,
   "metadata": {},
   "outputs": [
    {
     "name": "stdout",
     "output_type": "stream",
     "text": [
      "0\n",
      "1\n",
      "2\n",
      "3\n",
      "4\n"
     ]
    }
   ],
   "source": [
    "for one_item in range(5):\n",
    "    print(one_item)"
   ]
  },
  {
   "cell_type": "code",
   "execution_count": 74,
   "metadata": {},
   "outputs": [
    {
     "data": {
      "text/plain": [
       "4"
      ]
     },
     "execution_count": 74,
     "metadata": {},
     "output_type": "execute_result"
    }
   ],
   "source": [
    "one_item"
   ]
  },
  {
   "cell_type": "code",
   "execution_count": 77,
   "metadata": {},
   "outputs": [
    {
     "data": {
      "text/plain": [
       "True"
      ]
     },
     "execution_count": 77,
     "metadata": {},
     "output_type": "execute_result"
    }
   ],
   "source": [
    "'x' in globals()  # yes, x is a global variable!"
   ]
  },
  {
   "cell_type": "code",
   "execution_count": 78,
   "metadata": {},
   "outputs": [
    {
     "name": "stdout",
     "output_type": "stream",
     "text": [
      "Before, x = 100\n",
      "In myfunc, x = 100\n",
      "After, x = 100\n"
     ]
    }
   ],
   "source": [
    "x = 100\n",
    "\n",
    "def myfunc():\n",
    "    print(f'In myfunc, x = {x}')  # is x local? NO. enclosing? NO. global? yes\n",
    "    \n",
    "print(f'Before, x = {x}')   # is x global? yes!\n",
    "myfunc()\n",
    "print(f'After, x = {x}')  # is x global? yes!"
   ]
  },
  {
   "cell_type": "code",
   "execution_count": 79,
   "metadata": {},
   "outputs": [
    {
     "data": {
      "text/plain": [
       "False"
      ]
     },
     "execution_count": 79,
     "metadata": {},
     "output_type": "execute_result"
    }
   ],
   "source": [
    "'x' in myfunc.__code__.co_varnames"
   ]
  },
  {
   "cell_type": "code",
   "execution_count": 80,
   "metadata": {},
   "outputs": [
    {
     "name": "stdout",
     "output_type": "stream",
     "text": [
      "Before, x = 100\n",
      "In myfunc, x = 200\n",
      "After, x = 100\n"
     ]
    }
   ],
   "source": [
    "x = 100\n",
    "\n",
    "def myfunc():\n",
    "    x = 200\n",
    "    print(f'In myfunc, x = {x}')  # is x local? yes!\n",
    "    \n",
    "print(f'Before, x = {x}')  # is x global? yes!\n",
    "myfunc()\n",
    "print(f'After, x = {x}')  # is x global? yes!"
   ]
  },
  {
   "cell_type": "code",
   "execution_count": 81,
   "metadata": {},
   "outputs": [
    {
     "data": {
      "text/plain": [
       "('x',)"
      ]
     },
     "execution_count": 81,
     "metadata": {},
     "output_type": "execute_result"
    }
   ],
   "source": [
    "myfunc.__code__.co_varnames"
   ]
  },
  {
   "cell_type": "code",
   "execution_count": 84,
   "metadata": {},
   "outputs": [
    {
     "name": "stdout",
     "output_type": "stream",
     "text": [
      "Before, x = 100\n"
     ]
    },
    {
     "ename": "UnboundLocalError",
     "evalue": "local variable 'x' referenced before assignment",
     "output_type": "error",
     "traceback": [
      "\u001b[0;31m---------------------------------------------------------------------------\u001b[0m",
      "\u001b[0;31mUnboundLocalError\u001b[0m                         Traceback (most recent call last)",
      "\u001b[0;32m<ipython-input-84-67eb1c9e6bcf>\u001b[0m in \u001b[0;36m<module>\u001b[0;34m\u001b[0m\n\u001b[1;32m      7\u001b[0m \u001b[0;34m\u001b[0m\u001b[0m\n\u001b[1;32m      8\u001b[0m \u001b[0mprint\u001b[0m\u001b[0;34m(\u001b[0m\u001b[0;34mf'Before, x = {x}'\u001b[0m\u001b[0;34m)\u001b[0m   \u001b[0;31m# is x global? yes!\u001b[0m\u001b[0;34m\u001b[0m\u001b[0;34m\u001b[0m\u001b[0m\n\u001b[0;32m----> 9\u001b[0;31m \u001b[0mmyfunc\u001b[0m\u001b[0;34m(\u001b[0m\u001b[0;34m)\u001b[0m\u001b[0;34m\u001b[0m\u001b[0;34m\u001b[0m\u001b[0m\n\u001b[0m\u001b[1;32m     10\u001b[0m \u001b[0mprint\u001b[0m\u001b[0;34m(\u001b[0m\u001b[0;34mf'After, x = {x}'\u001b[0m\u001b[0;34m)\u001b[0m\u001b[0;34m\u001b[0m\u001b[0;34m\u001b[0m\u001b[0m\n",
      "\u001b[0;32m<ipython-input-84-67eb1c9e6bcf>\u001b[0m in \u001b[0;36mmyfunc\u001b[0;34m()\u001b[0m\n\u001b[1;32m      2\u001b[0m \u001b[0;34m\u001b[0m\u001b[0m\n\u001b[1;32m      3\u001b[0m \u001b[0;32mdef\u001b[0m \u001b[0mmyfunc\u001b[0m\u001b[0;34m(\u001b[0m\u001b[0;34m)\u001b[0m\u001b[0;34m:\u001b[0m\u001b[0;34m\u001b[0m\u001b[0;34m\u001b[0m\u001b[0m\n\u001b[0;32m----> 4\u001b[0;31m     \u001b[0mx\u001b[0m \u001b[0;34m=\u001b[0m \u001b[0mx\u001b[0m \u001b[0;34m+\u001b[0m \u001b[0;36m1\u001b[0m\u001b[0;34m\u001b[0m\u001b[0;34m\u001b[0m\u001b[0m\n\u001b[0m\u001b[1;32m      5\u001b[0m     \u001b[0mprint\u001b[0m\u001b[0;34m(\u001b[0m\u001b[0;34mf'In myfunc, x = {x}'\u001b[0m\u001b[0;34m)\u001b[0m  \u001b[0;31m# is x local? yes!\u001b[0m\u001b[0;34m\u001b[0m\u001b[0;34m\u001b[0m\u001b[0m\n\u001b[1;32m      6\u001b[0m \u001b[0;34m\u001b[0m\u001b[0m\n",
      "\u001b[0;31mUnboundLocalError\u001b[0m: local variable 'x' referenced before assignment"
     ]
    }
   ],
   "source": [
    "x = 100\n",
    "\n",
    "def myfunc():\n",
    "    x = x + 1\n",
    "    print(f'In myfunc, x = {x}')  # is x local? yes!\n",
    "\n",
    "    \n",
    "print(f'Before, x = {x}')   # is x global? yes!\n",
    "myfunc()\n",
    "print(f'After, x = {x}')  "
   ]
  },
  {
   "cell_type": "code",
   "execution_count": 83,
   "metadata": {},
   "outputs": [
    {
     "data": {
      "text/plain": [
       "('x',)"
      ]
     },
     "execution_count": 83,
     "metadata": {},
     "output_type": "execute_result"
    }
   ],
   "source": [
    "myfunc.__code__.co_varnames"
   ]
  },
  {
   "cell_type": "code",
   "execution_count": 87,
   "metadata": {},
   "outputs": [
    {
     "name": "stdout",
     "output_type": "stream",
     "text": [
      "Before, x = 100\n",
      "In myfunc, x = 200\n",
      "After, x = 200\n"
     ]
    }
   ],
   "source": [
    "x = 100\n",
    "\n",
    "def myfunc():\n",
    "    global x   \n",
    "    x = 200\n",
    "    print(f'In myfunc, x = {x}') \n",
    "\n",
    "    \n",
    "print(f'Before, x = {x}')   \n",
    "myfunc()\n",
    "print(f'After, x = {x}')  "
   ]
  },
  {
   "cell_type": "code",
   "execution_count": 86,
   "metadata": {},
   "outputs": [
    {
     "data": {
      "text/plain": [
       "()"
      ]
     },
     "execution_count": 86,
     "metadata": {},
     "output_type": "execute_result"
    }
   ],
   "source": [
    "def myfunc():\n",
    "    global x\n",
    "    x = 200\n",
    "    print(f'In myfunc, x = {x}') \n",
    "\n",
    "myfunc.__code__.co_varnames"
   ]
  },
  {
   "cell_type": "code",
   "execution_count": 88,
   "metadata": {},
   "outputs": [
    {
     "name": "stdout",
     "output_type": "stream",
     "text": [
      "Before, y = [10, 20, 30]\n",
      "In myfunc, y = [10, '!!!!', 30]\n",
      "After, y = [10, '!!!!', 30]\n"
     ]
    }
   ],
   "source": [
    "y = [10, 20, 30]\n",
    "\n",
    "def myfunc():\n",
    "    y[1] = '!!!!'\n",
    "    print(f'In myfunc, y = {y}') \n",
    "\n",
    "    \n",
    "print(f'Before, y = {y}')   \n",
    "myfunc()\n",
    "print(f'After, y = {y}')  "
   ]
  },
  {
   "cell_type": "code",
   "execution_count": 89,
   "metadata": {},
   "outputs": [],
   "source": [
    "# L \n",
    "# E\n",
    "# G\n",
    "# B"
   ]
  },
  {
   "cell_type": "code",
   "execution_count": 90,
   "metadata": {},
   "outputs": [
    {
     "data": {
      "text/plain": [
       "60"
      ]
     },
     "execution_count": 90,
     "metadata": {},
     "output_type": "execute_result"
    }
   ],
   "source": [
    "numbers = [10, 20, 30]\n",
    "sum = 0\n",
    "\n",
    "for one_number in numbers:\n",
    "    sum += one_number\n",
    "    \n",
    "sum"
   ]
  },
  {
   "cell_type": "code",
   "execution_count": 91,
   "metadata": {},
   "outputs": [
    {
     "ename": "TypeError",
     "evalue": "'int' object is not callable",
     "output_type": "error",
     "traceback": [
      "\u001b[0;31m---------------------------------------------------------------------------\u001b[0m",
      "\u001b[0;31mTypeError\u001b[0m                                 Traceback (most recent call last)",
      "\u001b[0;32m<ipython-input-91-91e9471ff804>\u001b[0m in \u001b[0;36m<module>\u001b[0;34m\u001b[0m\n\u001b[0;32m----> 1\u001b[0;31m \u001b[0msum\u001b[0m\u001b[0;34m(\u001b[0m\u001b[0;34m[\u001b[0m\u001b[0;36m10\u001b[0m\u001b[0;34m,\u001b[0m \u001b[0;36m20\u001b[0m\u001b[0;34m,\u001b[0m \u001b[0;36m30\u001b[0m\u001b[0;34m,\u001b[0m \u001b[0;36m40\u001b[0m\u001b[0;34m,\u001b[0m \u001b[0;36m50\u001b[0m\u001b[0;34m]\u001b[0m\u001b[0;34m)\u001b[0m\u001b[0;34m\u001b[0m\u001b[0;34m\u001b[0m\u001b[0m\n\u001b[0m",
      "\u001b[0;31mTypeError\u001b[0m: 'int' object is not callable"
     ]
    }
   ],
   "source": [
    "sum([10, 20, 30, 40, 50])"
   ]
  },
  {
   "cell_type": "code",
   "execution_count": 92,
   "metadata": {},
   "outputs": [],
   "source": [
    "del(sum)"
   ]
  },
  {
   "cell_type": "code",
   "execution_count": 93,
   "metadata": {},
   "outputs": [
    {
     "data": {
      "text/plain": [
       "150"
      ]
     },
     "execution_count": 93,
     "metadata": {},
     "output_type": "execute_result"
    }
   ],
   "source": [
    "sum([10, 20, 30, 40, 50])"
   ]
  },
  {
   "cell_type": "code",
   "execution_count": null,
   "metadata": {},
   "outputs": [],
   "source": [
    "# \"Better Developers\" newsletter\n",
    "\n",
    "# https://BetterDevelopersWeekly.com/"
   ]
  },
  {
   "cell_type": "code",
   "execution_count": 94,
   "metadata": {},
   "outputs": [
    {
     "data": {
      "text/plain": [
       "{'__name__': '__main__',\n",
       " '__doc__': 'Automatically created module for IPython interactive environment',\n",
       " '__package__': None,\n",
       " '__loader__': None,\n",
       " '__spec__': None,\n",
       " '__builtin__': <module 'builtins' (built-in)>,\n",
       " '__builtins__': <module 'builtins' (built-in)>,\n",
       " '_ih': ['',\n",
       "  \"s = 'abcd'\\nlen(s)\",\n",
       "  'x = len(s)\\ntype(x)',\n",
       "  'x',\n",
       "  'x = s.upper()',\n",
       "  'x',\n",
       "  'type(x)',\n",
       "  'x = s.upper',\n",
       "  'x',\n",
       "  'x is s.upper',\n",
       "  's.upper()',\n",
       "  'x()',\n",
       "  \"d = {'a':1, 'b':2, 'c':3}\\n\\nfor key, value in d.items():\\n    print(f'{key}: {value}')\",\n",
       "  \"d = {'a':1, 'b':2, 'c':3}\\n\\nfor key, value in d.items:\\n    print(f'{key}: {value}')\",\n",
       "  \"def hello():\\n    return 'Hello!'\",\n",
       "  'type(hello)',\n",
       "  'type(hello())',\n",
       "  'import dis',\n",
       "  'dis.dis(hello)',\n",
       "  'hello.__code__',\n",
       "  'dir(hello.__code__)',\n",
       "  'hello.__code__.co_code',\n",
       "  'hello.__code__.co_constants',\n",
       "  'hello.__code__.co_consts',\n",
       "  'dis.dis(hello)',\n",
       "  'def add_nums():\\n    return 2 + 3 + 4',\n",
       "  'dis.dis(add_nums)',\n",
       "  'def add_nums():\\n    x = 2\\n    y = 3\\n    z = 4\\n    return x + y + z',\n",
       "  'dis.dis(add_nums)',\n",
       "  'add_nums.__code__.co_consts',\n",
       "  \"def hello():\\n    return 'Hello!'\",\n",
       "  \"def goodbye():\\n    return 'Goodbye!'\",\n",
       "  \"goodbye.__code__.co_consts = (None, 'hahaha')\",\n",
       "  'goodbye.__code__ = hello.__code__   # function brain transplant!',\n",
       "  'hello()',\n",
       "  'goodbye()',\n",
       "  \"hello('world')\",\n",
       "  '# 2 types of arguments in Python:\\n# - positional arguments (assigned to parameters via their position)\\n# - keyword arguments (assigned to parameters via their names / keywords)\\n\\ndef add(x, y):\\n    return x + y',\n",
       "  'add(10, 5) # both of these are positional arguments',\n",
       "  'add(x=10, y=5)  # both of these are keyword arguments',\n",
       "  'add(y=5, x=10)',\n",
       "  'hello.__code__.co_argcount',\n",
       "  \"def hello(name):\\n    return f'Hello, {name}!'\",\n",
       "  \"hello('world')\",\n",
       "  'hello.__code__.co_argcount',\n",
       "  'hello()',\n",
       "  \"hello.__code__.co_varnames   # tuple of strings with the function's local variables\",\n",
       "  \"def hello(name):\\n    x = 1\\n    y = 2\\n    return f'Hello, {name}!'\",\n",
       "  'hello.__code__.co_varnames',\n",
       "  'hello.__code__.co_argcount',\n",
       "  'def add(x, y=10):\\n    return x + y',\n",
       "  'add(5, 6)',\n",
       "  'add.__code__.co_argcount',\n",
       "  'add(5)',\n",
       "  'add.__defaults__',\n",
       "  \"def myfunc(a,b,c,d=10,e=20,f=30):\\n    return 'Hello'\",\n",
       "  'myfunc.__code__.co_argcount',\n",
       "  'myfunc(2,4,6)',\n",
       "  'myfunc.__defaults__',\n",
       "  'myfunc(2,4,6,8)',\n",
       "  'def myfunc(y):\\n    y = 20\\n    \\nx = 10\\n\\nmyfunc(x)\\nx',\n",
       "  '# not exactly...\\n\\ndef myfunc(y):\\n    y.append(1)\\n    \\nx = [10, 20 30]\\nmyfunc(x)\\n\\nx',\n",
       "  '# not exactly...\\n\\ndef myfunc(y):\\n    y.append(1)\\n    \\nx = [10, 20, 30]\\nmyfunc(x)\\n\\nx',\n",
       "  'def add_one(a_list):\\n    a_list.append(1)\\n    return a_list\\n\\nx = [10, 20, 30]\\nadd_one(x)\\n\\nx',\n",
       "  'add_one(x)\\nx',\n",
       "  'def add_one(a_list=[]):   # default of an empty list\\n    a_list.append(1)\\n    return a_list\\n\\nadd_one()',\n",
       "  'add_one()',\n",
       "  'add_one()',\n",
       "  'def add_one(a_list=[]):   # default of an empty list\\n    a_list.append(1)\\n    return a_list',\n",
       "  'add_one.__defaults__',\n",
       "  'add_one()',\n",
       "  'add_one.__defaults__',\n",
       "  \"x = 100\\n\\nprint(f'x = {x}')\",\n",
       "  'for one_item in range(5):\\n    print(one_item)',\n",
       "  'one_item',\n",
       "  'globals()',\n",
       "  \"'x' in globals()\",\n",
       "  \"'x' in globals()  # yes, x is a global variable!\",\n",
       "  \"x = 100\\n\\ndef myfunc():\\n    print(f'In myfunc, x = {x}')\\n    \\nprint(f'Before, x = {x}')\\nmyfunc()\\nprint(f'After, x = {x}')\",\n",
       "  \"'x' in myfunc.__code__.co_varnames\",\n",
       "  \"x = 100\\n\\ndef myfunc():\\n    x = 200\\n    print(f'In myfunc, x = {x}')  \\n    \\nprint(f'Before, x = {x}')  \\nmyfunc()\\nprint(f'After, x = {x}')  \",\n",
       "  'myfunc.__code__.co_varnames',\n",
       "  \"x = 100\\n\\ndef myfunc():\\n    print(f'In myfunc, x = {x}')\\n    x = 200\\n    \\nprint(f'Before, x = {x}') \\nmyfunc()\\nprint(f'After, x = {x}')  \",\n",
       "  'myfunc.__code__.co_varnames',\n",
       "  \"x = 100\\n\\ndef myfunc():\\n    x = x + 1\\n    print(f'In myfunc, x = {x}')  # is x local? yes!\\n\\n    \\nprint(f'Before, x = {x}')   # is x global? yes!\\nmyfunc()\\nprint(f'After, x = {x}')  \",\n",
       "  \"def myfunc():\\n    x = 200\\n    print(f'In myfunc, x = {x}') \\n\\nmyfunc.__code__.co_varnames\",\n",
       "  \"def myfunc():\\n    global x\\n    x = 200\\n    print(f'In myfunc, x = {x}') \\n\\nmyfunc.__code__.co_varnames\",\n",
       "  \"x = 100\\n\\ndef myfunc():\\n    global x   \\n    x = 200\\n    print(f'In myfunc, x = {x}') \\n\\n    \\nprint(f'Before, x = {x}')   \\nmyfunc()\\nprint(f'After, x = {x}')  \",\n",
       "  \"y = [10, 20, 30]\\n\\ndef myfunc():\\n    y[1] = '!!!!'\\n    print(f'In myfunc, y = {y}') \\n\\n    \\nprint(f'Before, y = {y}')   \\nmyfunc()\\nprint(f'After, y = {y}')  \",\n",
       "  '# L \\n# E\\n# G\\n# B',\n",
       "  'numbers = [10, 20, 30]\\nsum = 0\\n\\nfor one_number in numbers:\\n    sum += one_number\\n    \\nsum',\n",
       "  'sum([10, 20, 30, 40, 50])',\n",
       "  'del(sum)',\n",
       "  'sum([10, 20, 30, 40, 50])',\n",
       "  'globals()'],\n",
       " '_oh': {1: 4,\n",
       "  2: int,\n",
       "  3: 4,\n",
       "  5: 'ABCD',\n",
       "  6: str,\n",
       "  8: <function str.upper()>,\n",
       "  9: False,\n",
       "  10: 'ABCD',\n",
       "  11: 'ABCD',\n",
       "  15: function,\n",
       "  16: str,\n",
       "  19: <code object hello at 0x10a9ae920, file \"<ipython-input-14-51d8671ba7ac>\", line 1>,\n",
       "  20: ['__class__',\n",
       "   '__delattr__',\n",
       "   '__dir__',\n",
       "   '__doc__',\n",
       "   '__eq__',\n",
       "   '__format__',\n",
       "   '__ge__',\n",
       "   '__getattribute__',\n",
       "   '__gt__',\n",
       "   '__hash__',\n",
       "   '__init__',\n",
       "   '__init_subclass__',\n",
       "   '__le__',\n",
       "   '__lt__',\n",
       "   '__ne__',\n",
       "   '__new__',\n",
       "   '__reduce__',\n",
       "   '__reduce_ex__',\n",
       "   '__repr__',\n",
       "   '__setattr__',\n",
       "   '__sizeof__',\n",
       "   '__str__',\n",
       "   '__subclasshook__',\n",
       "   'co_argcount',\n",
       "   'co_cellvars',\n",
       "   'co_code',\n",
       "   'co_consts',\n",
       "   'co_filename',\n",
       "   'co_firstlineno',\n",
       "   'co_flags',\n",
       "   'co_freevars',\n",
       "   'co_kwonlyargcount',\n",
       "   'co_lnotab',\n",
       "   'co_name',\n",
       "   'co_names',\n",
       "   'co_nlocals',\n",
       "   'co_posonlyargcount',\n",
       "   'co_stacksize',\n",
       "   'co_varnames',\n",
       "   'replace'],\n",
       "  21: b'd\\x01S\\x00',\n",
       "  23: (None, 'Hello!'),\n",
       "  29: (None, 2, 3, 4),\n",
       "  34: 'Hello!',\n",
       "  35: 'Hello!',\n",
       "  38: 15,\n",
       "  39: 15,\n",
       "  40: 15,\n",
       "  41: 0,\n",
       "  43: 'Hello, world!',\n",
       "  44: 1,\n",
       "  46: ('name',),\n",
       "  48: ('name', 'x', 'y'),\n",
       "  49: 1,\n",
       "  51: 11,\n",
       "  52: 2,\n",
       "  53: 15,\n",
       "  54: (10,),\n",
       "  56: 6,\n",
       "  57: 'Hello',\n",
       "  58: (10, 20, 30),\n",
       "  59: 'Hello',\n",
       "  60: 10,\n",
       "  62: [10, 20, 30, 1],\n",
       "  63: [10, 20, 30, 1, 1],\n",
       "  64: [10, 20, 30, 1, 1],\n",
       "  65: [1, 1, 1],\n",
       "  66: [1, 1, 1],\n",
       "  67: [1, 1, 1],\n",
       "  69: ([1],),\n",
       "  70: [1],\n",
       "  71: ([1],),\n",
       "  74: 4,\n",
       "  75: {...},\n",
       "  76: True,\n",
       "  77: True,\n",
       "  79: False,\n",
       "  81: ('x',),\n",
       "  83: ('x',),\n",
       "  85: ('x',),\n",
       "  86: (),\n",
       "  90: 60,\n",
       "  93: 150},\n",
       " '_dh': ['/Users/reuven/Desktop/manning-twitch-2020-aug-12'],\n",
       " 'In': ['',\n",
       "  \"s = 'abcd'\\nlen(s)\",\n",
       "  'x = len(s)\\ntype(x)',\n",
       "  'x',\n",
       "  'x = s.upper()',\n",
       "  'x',\n",
       "  'type(x)',\n",
       "  'x = s.upper',\n",
       "  'x',\n",
       "  'x is s.upper',\n",
       "  's.upper()',\n",
       "  'x()',\n",
       "  \"d = {'a':1, 'b':2, 'c':3}\\n\\nfor key, value in d.items():\\n    print(f'{key}: {value}')\",\n",
       "  \"d = {'a':1, 'b':2, 'c':3}\\n\\nfor key, value in d.items:\\n    print(f'{key}: {value}')\",\n",
       "  \"def hello():\\n    return 'Hello!'\",\n",
       "  'type(hello)',\n",
       "  'type(hello())',\n",
       "  'import dis',\n",
       "  'dis.dis(hello)',\n",
       "  'hello.__code__',\n",
       "  'dir(hello.__code__)',\n",
       "  'hello.__code__.co_code',\n",
       "  'hello.__code__.co_constants',\n",
       "  'hello.__code__.co_consts',\n",
       "  'dis.dis(hello)',\n",
       "  'def add_nums():\\n    return 2 + 3 + 4',\n",
       "  'dis.dis(add_nums)',\n",
       "  'def add_nums():\\n    x = 2\\n    y = 3\\n    z = 4\\n    return x + y + z',\n",
       "  'dis.dis(add_nums)',\n",
       "  'add_nums.__code__.co_consts',\n",
       "  \"def hello():\\n    return 'Hello!'\",\n",
       "  \"def goodbye():\\n    return 'Goodbye!'\",\n",
       "  \"goodbye.__code__.co_consts = (None, 'hahaha')\",\n",
       "  'goodbye.__code__ = hello.__code__   # function brain transplant!',\n",
       "  'hello()',\n",
       "  'goodbye()',\n",
       "  \"hello('world')\",\n",
       "  '# 2 types of arguments in Python:\\n# - positional arguments (assigned to parameters via their position)\\n# - keyword arguments (assigned to parameters via their names / keywords)\\n\\ndef add(x, y):\\n    return x + y',\n",
       "  'add(10, 5) # both of these are positional arguments',\n",
       "  'add(x=10, y=5)  # both of these are keyword arguments',\n",
       "  'add(y=5, x=10)',\n",
       "  'hello.__code__.co_argcount',\n",
       "  \"def hello(name):\\n    return f'Hello, {name}!'\",\n",
       "  \"hello('world')\",\n",
       "  'hello.__code__.co_argcount',\n",
       "  'hello()',\n",
       "  \"hello.__code__.co_varnames   # tuple of strings with the function's local variables\",\n",
       "  \"def hello(name):\\n    x = 1\\n    y = 2\\n    return f'Hello, {name}!'\",\n",
       "  'hello.__code__.co_varnames',\n",
       "  'hello.__code__.co_argcount',\n",
       "  'def add(x, y=10):\\n    return x + y',\n",
       "  'add(5, 6)',\n",
       "  'add.__code__.co_argcount',\n",
       "  'add(5)',\n",
       "  'add.__defaults__',\n",
       "  \"def myfunc(a,b,c,d=10,e=20,f=30):\\n    return 'Hello'\",\n",
       "  'myfunc.__code__.co_argcount',\n",
       "  'myfunc(2,4,6)',\n",
       "  'myfunc.__defaults__',\n",
       "  'myfunc(2,4,6,8)',\n",
       "  'def myfunc(y):\\n    y = 20\\n    \\nx = 10\\n\\nmyfunc(x)\\nx',\n",
       "  '# not exactly...\\n\\ndef myfunc(y):\\n    y.append(1)\\n    \\nx = [10, 20 30]\\nmyfunc(x)\\n\\nx',\n",
       "  '# not exactly...\\n\\ndef myfunc(y):\\n    y.append(1)\\n    \\nx = [10, 20, 30]\\nmyfunc(x)\\n\\nx',\n",
       "  'def add_one(a_list):\\n    a_list.append(1)\\n    return a_list\\n\\nx = [10, 20, 30]\\nadd_one(x)\\n\\nx',\n",
       "  'add_one(x)\\nx',\n",
       "  'def add_one(a_list=[]):   # default of an empty list\\n    a_list.append(1)\\n    return a_list\\n\\nadd_one()',\n",
       "  'add_one()',\n",
       "  'add_one()',\n",
       "  'def add_one(a_list=[]):   # default of an empty list\\n    a_list.append(1)\\n    return a_list',\n",
       "  'add_one.__defaults__',\n",
       "  'add_one()',\n",
       "  'add_one.__defaults__',\n",
       "  \"x = 100\\n\\nprint(f'x = {x}')\",\n",
       "  'for one_item in range(5):\\n    print(one_item)',\n",
       "  'one_item',\n",
       "  'globals()',\n",
       "  \"'x' in globals()\",\n",
       "  \"'x' in globals()  # yes, x is a global variable!\",\n",
       "  \"x = 100\\n\\ndef myfunc():\\n    print(f'In myfunc, x = {x}')\\n    \\nprint(f'Before, x = {x}')\\nmyfunc()\\nprint(f'After, x = {x}')\",\n",
       "  \"'x' in myfunc.__code__.co_varnames\",\n",
       "  \"x = 100\\n\\ndef myfunc():\\n    x = 200\\n    print(f'In myfunc, x = {x}')  \\n    \\nprint(f'Before, x = {x}')  \\nmyfunc()\\nprint(f'After, x = {x}')  \",\n",
       "  'myfunc.__code__.co_varnames',\n",
       "  \"x = 100\\n\\ndef myfunc():\\n    print(f'In myfunc, x = {x}')\\n    x = 200\\n    \\nprint(f'Before, x = {x}') \\nmyfunc()\\nprint(f'After, x = {x}')  \",\n",
       "  'myfunc.__code__.co_varnames',\n",
       "  \"x = 100\\n\\ndef myfunc():\\n    x = x + 1\\n    print(f'In myfunc, x = {x}')  # is x local? yes!\\n\\n    \\nprint(f'Before, x = {x}')   # is x global? yes!\\nmyfunc()\\nprint(f'After, x = {x}')  \",\n",
       "  \"def myfunc():\\n    x = 200\\n    print(f'In myfunc, x = {x}') \\n\\nmyfunc.__code__.co_varnames\",\n",
       "  \"def myfunc():\\n    global x\\n    x = 200\\n    print(f'In myfunc, x = {x}') \\n\\nmyfunc.__code__.co_varnames\",\n",
       "  \"x = 100\\n\\ndef myfunc():\\n    global x   \\n    x = 200\\n    print(f'In myfunc, x = {x}') \\n\\n    \\nprint(f'Before, x = {x}')   \\nmyfunc()\\nprint(f'After, x = {x}')  \",\n",
       "  \"y = [10, 20, 30]\\n\\ndef myfunc():\\n    y[1] = '!!!!'\\n    print(f'In myfunc, y = {y}') \\n\\n    \\nprint(f'Before, y = {y}')   \\nmyfunc()\\nprint(f'After, y = {y}')  \",\n",
       "  '# L \\n# E\\n# G\\n# B',\n",
       "  'numbers = [10, 20, 30]\\nsum = 0\\n\\nfor one_number in numbers:\\n    sum += one_number\\n    \\nsum',\n",
       "  'sum([10, 20, 30, 40, 50])',\n",
       "  'del(sum)',\n",
       "  'sum([10, 20, 30, 40, 50])',\n",
       "  'globals()'],\n",
       " 'Out': {1: 4,\n",
       "  2: int,\n",
       "  3: 4,\n",
       "  5: 'ABCD',\n",
       "  6: str,\n",
       "  8: <function str.upper()>,\n",
       "  9: False,\n",
       "  10: 'ABCD',\n",
       "  11: 'ABCD',\n",
       "  15: function,\n",
       "  16: str,\n",
       "  19: <code object hello at 0x10a9ae920, file \"<ipython-input-14-51d8671ba7ac>\", line 1>,\n",
       "  20: ['__class__',\n",
       "   '__delattr__',\n",
       "   '__dir__',\n",
       "   '__doc__',\n",
       "   '__eq__',\n",
       "   '__format__',\n",
       "   '__ge__',\n",
       "   '__getattribute__',\n",
       "   '__gt__',\n",
       "   '__hash__',\n",
       "   '__init__',\n",
       "   '__init_subclass__',\n",
       "   '__le__',\n",
       "   '__lt__',\n",
       "   '__ne__',\n",
       "   '__new__',\n",
       "   '__reduce__',\n",
       "   '__reduce_ex__',\n",
       "   '__repr__',\n",
       "   '__setattr__',\n",
       "   '__sizeof__',\n",
       "   '__str__',\n",
       "   '__subclasshook__',\n",
       "   'co_argcount',\n",
       "   'co_cellvars',\n",
       "   'co_code',\n",
       "   'co_consts',\n",
       "   'co_filename',\n",
       "   'co_firstlineno',\n",
       "   'co_flags',\n",
       "   'co_freevars',\n",
       "   'co_kwonlyargcount',\n",
       "   'co_lnotab',\n",
       "   'co_name',\n",
       "   'co_names',\n",
       "   'co_nlocals',\n",
       "   'co_posonlyargcount',\n",
       "   'co_stacksize',\n",
       "   'co_varnames',\n",
       "   'replace'],\n",
       "  21: b'd\\x01S\\x00',\n",
       "  23: (None, 'Hello!'),\n",
       "  29: (None, 2, 3, 4),\n",
       "  34: 'Hello!',\n",
       "  35: 'Hello!',\n",
       "  38: 15,\n",
       "  39: 15,\n",
       "  40: 15,\n",
       "  41: 0,\n",
       "  43: 'Hello, world!',\n",
       "  44: 1,\n",
       "  46: ('name',),\n",
       "  48: ('name', 'x', 'y'),\n",
       "  49: 1,\n",
       "  51: 11,\n",
       "  52: 2,\n",
       "  53: 15,\n",
       "  54: (10,),\n",
       "  56: 6,\n",
       "  57: 'Hello',\n",
       "  58: (10, 20, 30),\n",
       "  59: 'Hello',\n",
       "  60: 10,\n",
       "  62: [10, 20, 30, 1],\n",
       "  63: [10, 20, 30, 1, 1],\n",
       "  64: [10, 20, 30, 1, 1],\n",
       "  65: [1, 1, 1],\n",
       "  66: [1, 1, 1],\n",
       "  67: [1, 1, 1],\n",
       "  69: ([1],),\n",
       "  70: [1],\n",
       "  71: ([1],),\n",
       "  74: 4,\n",
       "  75: {...},\n",
       "  76: True,\n",
       "  77: True,\n",
       "  79: False,\n",
       "  81: ('x',),\n",
       "  83: ('x',),\n",
       "  85: ('x',),\n",
       "  86: (),\n",
       "  90: 60,\n",
       "  93: 150},\n",
       " 'get_ipython': <bound method InteractiveShell.get_ipython of <ipykernel.zmqshell.ZMQInteractiveShell object at 0x10a799ac0>>,\n",
       " 'exit': <IPython.core.autocall.ZMQExitAutocall at 0x10a8701c0>,\n",
       " 'quit': <IPython.core.autocall.ZMQExitAutocall at 0x10a8701c0>,\n",
       " '_': 150,\n",
       " '__': 60,\n",
       " '___': (),\n",
       " '_i': 'sum([10, 20, 30, 40, 50])',\n",
       " '_ii': 'del(sum)',\n",
       " '_iii': 'sum([10, 20, 30, 40, 50])',\n",
       " '_i1': \"s = 'abcd'\\nlen(s)\",\n",
       " 's': 'abcd',\n",
       " '_1': 4,\n",
       " '_i2': 'x = len(s)\\ntype(x)',\n",
       " 'x': 200,\n",
       " '_2': int,\n",
       " '_i3': 'x',\n",
       " '_3': 4,\n",
       " '_i4': 'x = s.upper()',\n",
       " '_i5': 'x',\n",
       " '_5': 'ABCD',\n",
       " '_i6': 'type(x)',\n",
       " '_6': str,\n",
       " '_i7': 'x = s.upper',\n",
       " '_i8': 'x',\n",
       " '_8': <function str.upper()>,\n",
       " '_i9': 'x is s.upper',\n",
       " '_9': False,\n",
       " '_i10': 's.upper()',\n",
       " '_10': 'ABCD',\n",
       " '_i11': 'x()',\n",
       " '_11': 'ABCD',\n",
       " '_i12': \"d = {'a':1, 'b':2, 'c':3}\\n\\nfor key, value in d.items():\\n    print(f'{key}: {value}')\",\n",
       " 'd': {'a': 1, 'b': 2, 'c': 3},\n",
       " 'key': 'c',\n",
       " 'value': 3,\n",
       " '_i13': \"d = {'a':1, 'b':2, 'c':3}\\n\\nfor key, value in d.items:\\n    print(f'{key}: {value}')\",\n",
       " '_i14': \"def hello():\\n    return 'Hello!'\",\n",
       " 'hello': <function __main__.hello(name)>,\n",
       " '_i15': 'type(hello)',\n",
       " '_15': function,\n",
       " '_i16': 'type(hello())',\n",
       " '_16': str,\n",
       " '_i17': 'import dis',\n",
       " 'dis': <module 'dis' from '/usr/local/Cellar/python@3.8/3.8.5/Frameworks/Python.framework/Versions/3.8/lib/python3.8/dis.py'>,\n",
       " '_i18': 'dis.dis(hello)',\n",
       " '_i19': 'hello.__code__',\n",
       " '_19': <code object hello at 0x10a9ae920, file \"<ipython-input-14-51d8671ba7ac>\", line 1>,\n",
       " '_i20': 'dir(hello.__code__)',\n",
       " '_20': ['__class__',\n",
       "  '__delattr__',\n",
       "  '__dir__',\n",
       "  '__doc__',\n",
       "  '__eq__',\n",
       "  '__format__',\n",
       "  '__ge__',\n",
       "  '__getattribute__',\n",
       "  '__gt__',\n",
       "  '__hash__',\n",
       "  '__init__',\n",
       "  '__init_subclass__',\n",
       "  '__le__',\n",
       "  '__lt__',\n",
       "  '__ne__',\n",
       "  '__new__',\n",
       "  '__reduce__',\n",
       "  '__reduce_ex__',\n",
       "  '__repr__',\n",
       "  '__setattr__',\n",
       "  '__sizeof__',\n",
       "  '__str__',\n",
       "  '__subclasshook__',\n",
       "  'co_argcount',\n",
       "  'co_cellvars',\n",
       "  'co_code',\n",
       "  'co_consts',\n",
       "  'co_filename',\n",
       "  'co_firstlineno',\n",
       "  'co_flags',\n",
       "  'co_freevars',\n",
       "  'co_kwonlyargcount',\n",
       "  'co_lnotab',\n",
       "  'co_name',\n",
       "  'co_names',\n",
       "  'co_nlocals',\n",
       "  'co_posonlyargcount',\n",
       "  'co_stacksize',\n",
       "  'co_varnames',\n",
       "  'replace'],\n",
       " '_i21': 'hello.__code__.co_code',\n",
       " '_21': b'd\\x01S\\x00',\n",
       " '_i22': 'hello.__code__.co_constants',\n",
       " '_i23': 'hello.__code__.co_consts',\n",
       " '_23': (None, 'Hello!'),\n",
       " '_i24': 'dis.dis(hello)',\n",
       " '_i25': 'def add_nums():\\n    return 2 + 3 + 4',\n",
       " 'add_nums': <function __main__.add_nums()>,\n",
       " '_i26': 'dis.dis(add_nums)',\n",
       " '_i27': 'def add_nums():\\n    x = 2\\n    y = 3\\n    z = 4\\n    return x + y + z',\n",
       " '_i28': 'dis.dis(add_nums)',\n",
       " '_i29': 'add_nums.__code__.co_consts',\n",
       " '_29': (None, 2, 3, 4),\n",
       " '_i30': \"def hello():\\n    return 'Hello!'\",\n",
       " '_i31': \"def goodbye():\\n    return 'Goodbye!'\",\n",
       " 'goodbye': <function __main__.goodbye()>,\n",
       " '_i32': \"goodbye.__code__.co_consts = (None, 'hahaha')\",\n",
       " '_i33': 'goodbye.__code__ = hello.__code__   # function brain transplant!',\n",
       " '_i34': 'hello()',\n",
       " '_34': 'Hello!',\n",
       " '_i35': 'goodbye()',\n",
       " '_35': 'Hello!',\n",
       " '_i36': \"hello('world')\",\n",
       " '_i37': '# 2 types of arguments in Python:\\n# - positional arguments (assigned to parameters via their position)\\n# - keyword arguments (assigned to parameters via their names / keywords)\\n\\ndef add(x, y):\\n    return x + y',\n",
       " 'add': <function __main__.add(x, y=10)>,\n",
       " '_i38': 'add(10, 5) # both of these are positional arguments',\n",
       " '_38': 15,\n",
       " '_i39': 'add(x=10, y=5)  # both of these are keyword arguments',\n",
       " '_39': 15,\n",
       " '_i40': 'add(y=5, x=10)',\n",
       " '_40': 15,\n",
       " '_i41': 'hello.__code__.co_argcount',\n",
       " '_41': 0,\n",
       " '_i42': \"def hello(name):\\n    return f'Hello, {name}!'\",\n",
       " '_i43': \"hello('world')\",\n",
       " '_43': 'Hello, world!',\n",
       " '_i44': 'hello.__code__.co_argcount',\n",
       " '_44': 1,\n",
       " '_i45': 'hello()',\n",
       " '_i46': \"hello.__code__.co_varnames   # tuple of strings with the function's local variables\",\n",
       " '_46': ('name',),\n",
       " '_i47': \"def hello(name):\\n    x = 1\\n    y = 2\\n    return f'Hello, {name}!'\",\n",
       " '_i48': 'hello.__code__.co_varnames',\n",
       " '_48': ('name', 'x', 'y'),\n",
       " '_i49': 'hello.__code__.co_argcount',\n",
       " '_49': 1,\n",
       " '_i50': 'def add(x, y=10):\\n    return x + y',\n",
       " '_i51': 'add(5, 6)',\n",
       " '_51': 11,\n",
       " '_i52': 'add.__code__.co_argcount',\n",
       " '_52': 2,\n",
       " '_i53': 'add(5)',\n",
       " '_53': 15,\n",
       " '_i54': 'add.__defaults__',\n",
       " '_54': (10,),\n",
       " '_i55': \"def myfunc(a,b,c,d=10,e=20,f=30):\\n    return 'Hello'\",\n",
       " 'myfunc': <function __main__.myfunc()>,\n",
       " '_i56': 'myfunc.__code__.co_argcount',\n",
       " '_56': 6,\n",
       " '_i57': 'myfunc(2,4,6)',\n",
       " '_57': 'Hello',\n",
       " '_i58': 'myfunc.__defaults__',\n",
       " '_58': (10, 20, 30),\n",
       " '_i59': 'myfunc(2,4,6,8)',\n",
       " '_59': 'Hello',\n",
       " '_i60': 'def myfunc(y):\\n    y = 20\\n    \\nx = 10\\n\\nmyfunc(x)\\nx',\n",
       " '_60': 10,\n",
       " '_i61': '# not exactly...\\n\\ndef myfunc(y):\\n    y.append(1)\\n    \\nx = [10, 20 30]\\nmyfunc(x)\\n\\nx',\n",
       " '_i62': '# not exactly...\\n\\ndef myfunc(y):\\n    y.append(1)\\n    \\nx = [10, 20, 30]\\nmyfunc(x)\\n\\nx',\n",
       " '_62': [10, 20, 30, 1],\n",
       " '_i63': 'def add_one(a_list):\\n    a_list.append(1)\\n    return a_list\\n\\nx = [10, 20, 30]\\nadd_one(x)\\n\\nx',\n",
       " 'add_one': <function __main__.add_one(a_list=[1])>,\n",
       " '_63': [10, 20, 30, 1, 1],\n",
       " '_i64': 'add_one(x)\\nx',\n",
       " '_64': [10, 20, 30, 1, 1],\n",
       " '_i65': 'def add_one(a_list=[]):   # default of an empty list\\n    a_list.append(1)\\n    return a_list\\n\\nadd_one()',\n",
       " '_65': [1, 1, 1],\n",
       " '_i66': 'add_one()',\n",
       " '_66': [1, 1, 1],\n",
       " '_i67': 'add_one()',\n",
       " '_67': [1, 1, 1],\n",
       " '_i68': 'def add_one(a_list=[]):   # default of an empty list\\n    a_list.append(1)\\n    return a_list',\n",
       " '_i69': 'add_one.__defaults__',\n",
       " '_69': ([1],),\n",
       " '_i70': 'add_one()',\n",
       " '_70': [1],\n",
       " '_i71': 'add_one.__defaults__',\n",
       " '_71': ([1],),\n",
       " '_i72': \"x = 100\\n\\nprint(f'x = {x}')\",\n",
       " '_i73': 'for one_item in range(5):\\n    print(one_item)',\n",
       " 'one_item': 4,\n",
       " '_i74': 'one_item',\n",
       " '_74': 4,\n",
       " '_i75': 'globals()',\n",
       " '_75': {...},\n",
       " '_i76': \"'x' in globals()\",\n",
       " '_76': True,\n",
       " '_i77': \"'x' in globals()  # yes, x is a global variable!\",\n",
       " '_77': True,\n",
       " '_i78': \"x = 100\\n\\ndef myfunc():\\n    print(f'In myfunc, x = {x}')\\n    \\nprint(f'Before, x = {x}')\\nmyfunc()\\nprint(f'After, x = {x}')\",\n",
       " '_i79': \"'x' in myfunc.__code__.co_varnames\",\n",
       " '_79': False,\n",
       " '_i80': \"x = 100\\n\\ndef myfunc():\\n    x = 200\\n    print(f'In myfunc, x = {x}')  \\n    \\nprint(f'Before, x = {x}')  \\nmyfunc()\\nprint(f'After, x = {x}')  \",\n",
       " '_i81': 'myfunc.__code__.co_varnames',\n",
       " '_81': ('x',),\n",
       " '_i82': \"x = 100\\n\\ndef myfunc():\\n    print(f'In myfunc, x = {x}')\\n    x = 200\\n    \\nprint(f'Before, x = {x}') \\nmyfunc()\\nprint(f'After, x = {x}')  \",\n",
       " '_i83': 'myfunc.__code__.co_varnames',\n",
       " '_83': ('x',),\n",
       " '_i84': \"x = 100\\n\\ndef myfunc():\\n    x = x + 1\\n    print(f'In myfunc, x = {x}')  # is x local? yes!\\n\\n    \\nprint(f'Before, x = {x}')   # is x global? yes!\\nmyfunc()\\nprint(f'After, x = {x}')  \",\n",
       " '_i85': \"def myfunc():\\n    x = 200\\n    print(f'In myfunc, x = {x}') \\n\\nmyfunc.__code__.co_varnames\",\n",
       " '_85': ('x',),\n",
       " '_i86': \"def myfunc():\\n    global x\\n    x = 200\\n    print(f'In myfunc, x = {x}') \\n\\nmyfunc.__code__.co_varnames\",\n",
       " '_86': (),\n",
       " '_i87': \"x = 100\\n\\ndef myfunc():\\n    global x   \\n    x = 200\\n    print(f'In myfunc, x = {x}') \\n\\n    \\nprint(f'Before, x = {x}')   \\nmyfunc()\\nprint(f'After, x = {x}')  \",\n",
       " '_i88': \"y = [10, 20, 30]\\n\\ndef myfunc():\\n    y[1] = '!!!!'\\n    print(f'In myfunc, y = {y}') \\n\\n    \\nprint(f'Before, y = {y}')   \\nmyfunc()\\nprint(f'After, y = {y}')  \",\n",
       " 'y': [10, '!!!!', 30],\n",
       " '_i89': '# L \\n# E\\n# G\\n# B',\n",
       " '_i90': 'numbers = [10, 20, 30]\\nsum = 0\\n\\nfor one_number in numbers:\\n    sum += one_number\\n    \\nsum',\n",
       " 'numbers': [10, 20, 30],\n",
       " 'one_number': 30,\n",
       " '_90': 60,\n",
       " '_i91': 'sum([10, 20, 30, 40, 50])',\n",
       " '_i92': 'del(sum)',\n",
       " '_i93': 'sum([10, 20, 30, 40, 50])',\n",
       " '_93': 150,\n",
       " '_i94': 'globals()'}"
      ]
     },
     "execution_count": 94,
     "metadata": {},
     "output_type": "execute_result"
    }
   ],
   "source": [
    "globals()"
   ]
  },
  {
   "cell_type": "code",
   "execution_count": null,
   "metadata": {},
   "outputs": [],
   "source": []
  }
 ],
 "metadata": {
  "kernelspec": {
   "display_name": "Python 3",
   "language": "python",
   "name": "python3"
  },
  "language_info": {
   "codemirror_mode": {
    "name": "ipython",
    "version": 3
   },
   "file_extension": ".py",
   "mimetype": "text/x-python",
   "name": "python",
   "nbconvert_exporter": "python",
   "pygments_lexer": "ipython3",
   "version": "3.8.5"
  }
 },
 "nbformat": 4,
 "nbformat_minor": 4
}
